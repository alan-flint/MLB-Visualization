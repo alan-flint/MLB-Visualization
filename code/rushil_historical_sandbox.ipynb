{
 "cells": [
  {
   "cell_type": "code",
   "execution_count": 1,
   "metadata": {},
   "outputs": [],
   "source": [
    "import pandas as pd\n",
    "import numpy as np\n",
    "import os"
   ]
  },
  {
   "cell_type": "code",
   "execution_count": 2,
   "metadata": {},
   "outputs": [],
   "source": [
    "%load_ext rpy2.ipython"
   ]
  },
  {
   "cell_type": "code",
   "execution_count": 3,
   "metadata": {},
   "outputs": [
    {
     "name": "stderr",
     "output_type": "stream",
     "text": [
      "R[write to console]: Registered S3 methods overwritten by 'ggplot2':\n",
      "  method         from \n",
      "  [.quosures     rlang\n",
      "  c.quosures     rlang\n",
      "  print.quosures rlang\n",
      "\n"
     ]
    },
    {
     "data": {
      "text/plain": [
       "array(['ggplot2', 'tools', 'stats', 'graphics', 'grDevices', 'utils',\n",
       "       'datasets', 'methods', 'base'], dtype='<U9')"
      ]
     },
     "execution_count": 3,
     "metadata": {},
     "output_type": "execute_result"
    }
   ],
   "source": [
    "%R library(ggplot2)"
   ]
  },
  {
   "cell_type": "code",
   "execution_count": 4,
   "metadata": {},
   "outputs": [],
   "source": [
    "#function to make df readable into R\n",
    "def sametype(df):\n",
    "    cols = df.columns\n",
    "    for index, val in enumerate(cols):\n",
    "        if df[val].dtype == 'O':\n",
    "            df[val] = df[val].astype('str')\n",
    "    return df"
   ]
  },
  {
   "cell_type": "markdown",
   "metadata": {},
   "source": [
    "attendance analysis\n",
    "---"
   ]
  },
  {
   "cell_type": "code",
   "execution_count": 5,
   "metadata": {},
   "outputs": [],
   "source": [
    "#read DATA in\n",
    "\n",
    "#first read in attendance data\n",
    "attendance_df = pd.read_csv('../data/historical/HomeGames.csv')\n",
    "\n",
    "#read in franchises for active or not\n",
    "franchises_df = pd.read_csv('../data/historical/TeamsFranchises.csv')\n",
    "\n",
    "#park info\n",
    "parks_df = pd.read_csv('../data/historical/Parks.csv')\n",
    "\n",
    "#team info\n",
    "teams_df = pd.read_csv('../data/historical/Teams.csv')\n",
    "\n",
    "#postseason stats\n",
    "post_season_df = pd.read_csv('../data/historical/SeriesPost.csv')\n",
    "\n",
    "#stadium history\n",
    "current_stadium_df = pd.read_csv('../data/stadiums/current_stadiums.csv')\n",
    "past_stadium_df = pd.read_csv('../data/stadiums/past_stadiums.csv')"
   ]
  },
  {
   "cell_type": "code",
   "execution_count": 6,
   "metadata": {
    "scrolled": false
   },
   "outputs": [],
   "source": [
    "active_franchises_df = franchises_df.loc[franchises_df.active == 'Y']"
   ]
  },
  {
   "cell_type": "code",
   "execution_count": 8,
   "metadata": {},
   "outputs": [],
   "source": [
    "#goes from 2895 rows to 2656 when filtering for only active\n",
    "#also filter for last 50 years, from year 1969 and number of rows is 1398\n",
    "active_teams_df = teams_df.loc[(teams_df.franchID.isin(active_franchises_df.franchID)) & (teams_df.yearID > 1968)]"
   ]
  },
  {
   "cell_type": "code",
   "execution_count": 9,
   "metadata": {},
   "outputs": [],
   "source": [
    "active_teams_df = active_teams_df[['yearID', 'lgID', 'teamID', 'franchID', 'Rank', 'W', 'name', 'park', 'attendance']]"
   ]
  },
  {
   "cell_type": "code",
   "execution_count": 10,
   "metadata": {
    "scrolled": true
   },
   "outputs": [
    {
     "data": {
      "text/html": [
       "<div>\n",
       "<style scoped>\n",
       "    .dataframe tbody tr th:only-of-type {\n",
       "        vertical-align: middle;\n",
       "    }\n",
       "\n",
       "    .dataframe tbody tr th {\n",
       "        vertical-align: top;\n",
       "    }\n",
       "\n",
       "    .dataframe thead th {\n",
       "        text-align: right;\n",
       "    }\n",
       "</style>\n",
       "<table border=\"1\" class=\"dataframe\">\n",
       "  <thead>\n",
       "    <tr style=\"text-align: right;\">\n",
       "      <th></th>\n",
       "      <th>yearID</th>\n",
       "      <th>lgID</th>\n",
       "      <th>teamID</th>\n",
       "      <th>franchID</th>\n",
       "      <th>Rank</th>\n",
       "      <th>W</th>\n",
       "      <th>name</th>\n",
       "      <th>park</th>\n",
       "      <th>attendance</th>\n",
       "    </tr>\n",
       "  </thead>\n",
       "  <tbody>\n",
       "    <tr>\n",
       "      <th>1517</th>\n",
       "      <td>1969</td>\n",
       "      <td>NL</td>\n",
       "      <td>ATL</td>\n",
       "      <td>ATL</td>\n",
       "      <td>1</td>\n",
       "      <td>93</td>\n",
       "      <td>Atlanta Braves</td>\n",
       "      <td>Atlanta-Fulton County Stadium</td>\n",
       "      <td>1458320.0</td>\n",
       "    </tr>\n",
       "    <tr>\n",
       "      <th>1518</th>\n",
       "      <td>1969</td>\n",
       "      <td>AL</td>\n",
       "      <td>BAL</td>\n",
       "      <td>BAL</td>\n",
       "      <td>1</td>\n",
       "      <td>109</td>\n",
       "      <td>Baltimore Orioles</td>\n",
       "      <td>Memorial Stadium</td>\n",
       "      <td>1062069.0</td>\n",
       "    </tr>\n",
       "    <tr>\n",
       "      <th>1519</th>\n",
       "      <td>1969</td>\n",
       "      <td>AL</td>\n",
       "      <td>BOS</td>\n",
       "      <td>BOS</td>\n",
       "      <td>3</td>\n",
       "      <td>87</td>\n",
       "      <td>Boston Red Sox</td>\n",
       "      <td>Fenway Park II</td>\n",
       "      <td>1833246.0</td>\n",
       "    </tr>\n",
       "    <tr>\n",
       "      <th>1520</th>\n",
       "      <td>1969</td>\n",
       "      <td>AL</td>\n",
       "      <td>CAL</td>\n",
       "      <td>ANA</td>\n",
       "      <td>3</td>\n",
       "      <td>71</td>\n",
       "      <td>California Angels</td>\n",
       "      <td>Anaheim Stadium</td>\n",
       "      <td>758388.0</td>\n",
       "    </tr>\n",
       "    <tr>\n",
       "      <th>1521</th>\n",
       "      <td>1969</td>\n",
       "      <td>AL</td>\n",
       "      <td>CHA</td>\n",
       "      <td>CHW</td>\n",
       "      <td>5</td>\n",
       "      <td>68</td>\n",
       "      <td>Chicago White Sox</td>\n",
       "      <td>Comiskey Park</td>\n",
       "      <td>589546.0</td>\n",
       "    </tr>\n",
       "  </tbody>\n",
       "</table>\n",
       "</div>"
      ],
      "text/plain": [
       "      yearID lgID teamID franchID  Rank    W               name  \\\n",
       "1517    1969   NL    ATL      ATL     1   93     Atlanta Braves   \n",
       "1518    1969   AL    BAL      BAL     1  109  Baltimore Orioles   \n",
       "1519    1969   AL    BOS      BOS     3   87     Boston Red Sox   \n",
       "1520    1969   AL    CAL      ANA     3   71  California Angels   \n",
       "1521    1969   AL    CHA      CHW     5   68  Chicago White Sox   \n",
       "\n",
       "                               park  attendance  \n",
       "1517  Atlanta-Fulton County Stadium   1458320.0  \n",
       "1518               Memorial Stadium   1062069.0  \n",
       "1519                 Fenway Park II   1833246.0  \n",
       "1520                Anaheim Stadium    758388.0  \n",
       "1521                  Comiskey Park    589546.0  "
      ]
     },
     "execution_count": 10,
     "metadata": {},
     "output_type": "execute_result"
    }
   ],
   "source": [
    "active_teams_df.head()"
   ]
  },
  {
   "cell_type": "code",
   "execution_count": 11,
   "metadata": {},
   "outputs": [
    {
     "data": {
      "text/html": [
       "<div>\n",
       "<style scoped>\n",
       "    .dataframe tbody tr th:only-of-type {\n",
       "        vertical-align: middle;\n",
       "    }\n",
       "\n",
       "    .dataframe tbody tr th {\n",
       "        vertical-align: top;\n",
       "    }\n",
       "\n",
       "    .dataframe thead th {\n",
       "        text-align: right;\n",
       "    }\n",
       "</style>\n",
       "<table border=\"1\" class=\"dataframe\">\n",
       "  <thead>\n",
       "    <tr style=\"text-align: right;\">\n",
       "      <th></th>\n",
       "      <th>yearID</th>\n",
       "      <th>round</th>\n",
       "      <th>teamIDwinner</th>\n",
       "      <th>teamIDloser</th>\n",
       "    </tr>\n",
       "  </thead>\n",
       "  <tbody>\n",
       "    <tr>\n",
       "      <th>0</th>\n",
       "      <td>1884</td>\n",
       "      <td>WS</td>\n",
       "      <td>PRO</td>\n",
       "      <td>NY4</td>\n",
       "    </tr>\n",
       "    <tr>\n",
       "      <th>1</th>\n",
       "      <td>1885</td>\n",
       "      <td>WS</td>\n",
       "      <td>CHN</td>\n",
       "      <td>SL4</td>\n",
       "    </tr>\n",
       "    <tr>\n",
       "      <th>2</th>\n",
       "      <td>1886</td>\n",
       "      <td>WS</td>\n",
       "      <td>SL4</td>\n",
       "      <td>CHN</td>\n",
       "    </tr>\n",
       "    <tr>\n",
       "      <th>3</th>\n",
       "      <td>1887</td>\n",
       "      <td>WS</td>\n",
       "      <td>DTN</td>\n",
       "      <td>SL4</td>\n",
       "    </tr>\n",
       "    <tr>\n",
       "      <th>4</th>\n",
       "      <td>1888</td>\n",
       "      <td>WS</td>\n",
       "      <td>NY1</td>\n",
       "      <td>SL4</td>\n",
       "    </tr>\n",
       "  </tbody>\n",
       "</table>\n",
       "</div>"
      ],
      "text/plain": [
       "   yearID round teamIDwinner teamIDloser\n",
       "0    1884    WS          PRO         NY4\n",
       "1    1885    WS          CHN         SL4\n",
       "2    1886    WS          SL4         CHN\n",
       "3    1887    WS          DTN         SL4\n",
       "4    1888    WS          NY1         SL4"
      ]
     },
     "execution_count": 11,
     "metadata": {},
     "output_type": "execute_result"
    }
   ],
   "source": [
    "post_season_df[['yearID', 'round', 'teamIDwinner', 'teamIDloser']].head()"
   ]
  },
  {
   "cell_type": "code",
   "execution_count": 26,
   "metadata": {},
   "outputs": [],
   "source": [
    "#need to see if made playoffs and worldseries that year\n",
    "with_series = pd.merge(active_teams_df, post_season_df[['yearID', 'round', 'teamIDwinner']], how = 'left', right_on = ['yearID', 'teamIDwinner'], left_on = ['yearID', 'teamID'])\n",
    "with_series = pd.merge(with_series, post_season_df[['yearID', 'round', 'teamIDloser']], how = 'left', right_on = ['yearID', 'teamIDloser'], left_on = ['yearID', 'teamID'])\n",
    "with_series.rename(columns={'round_x':'round won', 'round_y':'round lost'}, inplace=True)\n",
    "with_series = with_series.drop(['teamIDwinner', 'teamIDloser'], axis=1)\n",
    "#with_series"
   ]
  },
  {
   "cell_type": "code",
   "execution_count": 27,
   "metadata": {
    "scrolled": false
   },
   "outputs": [
    {
     "data": {
      "text/plain": [
       "1406"
      ]
     },
     "execution_count": 27,
     "metadata": {},
     "output_type": "execute_result"
    }
   ],
   "source": [
    "with_series = sametype(with_series)\n",
    "with_series_over100 = with_series.loc[with_series.W > 100]\n",
    "with_series_under100 = with_series.loc[with_series.W < 100]\n",
    "with_series_under100.shape[0]"
   ]
  },
  {
   "cell_type": "markdown",
   "metadata": {},
   "source": [
    "add in column saying whether they made playoffs or not, due to join teams in the WS have 2 rows that season"
   ]
  },
  {
   "cell_type": "code",
   "execution_count": 28,
   "metadata": {},
   "outputs": [],
   "source": [
    "with_series.loc[(with_series['round won']=='nan') & (with_series['round lost']=='nan'), 'playoff_boolean'] = 0\n",
    "\n",
    "with_series.loc[(with_series.playoff_boolean.isna()), 'playoff_boolean'] = 1"
   ]
  },
  {
   "cell_type": "code",
   "execution_count": 32,
   "metadata": {},
   "outputs": [
    {
     "data": {
      "text/html": [
       "<div>\n",
       "<style scoped>\n",
       "    .dataframe tbody tr th:only-of-type {\n",
       "        vertical-align: middle;\n",
       "    }\n",
       "\n",
       "    .dataframe tbody tr th {\n",
       "        vertical-align: top;\n",
       "    }\n",
       "\n",
       "    .dataframe thead th {\n",
       "        text-align: right;\n",
       "    }\n",
       "</style>\n",
       "<table border=\"1\" class=\"dataframe\">\n",
       "  <thead>\n",
       "    <tr style=\"text-align: right;\">\n",
       "      <th></th>\n",
       "      <th>yearID</th>\n",
       "      <th>lgID</th>\n",
       "      <th>teamID</th>\n",
       "      <th>franchID</th>\n",
       "      <th>Rank</th>\n",
       "      <th>W</th>\n",
       "      <th>name</th>\n",
       "      <th>park</th>\n",
       "      <th>attendance</th>\n",
       "      <th>round won</th>\n",
       "      <th>round lost</th>\n",
       "      <th>playoff_boolean</th>\n",
       "    </tr>\n",
       "  </thead>\n",
       "  <tbody>\n",
       "    <tr>\n",
       "      <th>0</th>\n",
       "      <td>1969</td>\n",
       "      <td>NL</td>\n",
       "      <td>ATL</td>\n",
       "      <td>ATL</td>\n",
       "      <td>1</td>\n",
       "      <td>93</td>\n",
       "      <td>Atlanta Braves</td>\n",
       "      <td>Atlanta-Fulton County Stadium</td>\n",
       "      <td>1458320.0</td>\n",
       "      <td>nan</td>\n",
       "      <td>NLCS</td>\n",
       "      <td>1.0</td>\n",
       "    </tr>\n",
       "    <tr>\n",
       "      <th>1</th>\n",
       "      <td>1969</td>\n",
       "      <td>AL</td>\n",
       "      <td>BAL</td>\n",
       "      <td>BAL</td>\n",
       "      <td>1</td>\n",
       "      <td>109</td>\n",
       "      <td>Baltimore Orioles</td>\n",
       "      <td>Memorial Stadium</td>\n",
       "      <td>1062069.0</td>\n",
       "      <td>ALCS</td>\n",
       "      <td>WS</td>\n",
       "      <td>1.0</td>\n",
       "    </tr>\n",
       "    <tr>\n",
       "      <th>2</th>\n",
       "      <td>1969</td>\n",
       "      <td>AL</td>\n",
       "      <td>BOS</td>\n",
       "      <td>BOS</td>\n",
       "      <td>3</td>\n",
       "      <td>87</td>\n",
       "      <td>Boston Red Sox</td>\n",
       "      <td>Fenway Park II</td>\n",
       "      <td>1833246.0</td>\n",
       "      <td>nan</td>\n",
       "      <td>nan</td>\n",
       "      <td>0.0</td>\n",
       "    </tr>\n",
       "    <tr>\n",
       "      <th>3</th>\n",
       "      <td>1969</td>\n",
       "      <td>AL</td>\n",
       "      <td>CAL</td>\n",
       "      <td>ANA</td>\n",
       "      <td>3</td>\n",
       "      <td>71</td>\n",
       "      <td>California Angels</td>\n",
       "      <td>Anaheim Stadium</td>\n",
       "      <td>758388.0</td>\n",
       "      <td>nan</td>\n",
       "      <td>nan</td>\n",
       "      <td>0.0</td>\n",
       "    </tr>\n",
       "    <tr>\n",
       "      <th>4</th>\n",
       "      <td>1969</td>\n",
       "      <td>AL</td>\n",
       "      <td>CHA</td>\n",
       "      <td>CHW</td>\n",
       "      <td>5</td>\n",
       "      <td>68</td>\n",
       "      <td>Chicago White Sox</td>\n",
       "      <td>Comiskey Park</td>\n",
       "      <td>589546.0</td>\n",
       "      <td>nan</td>\n",
       "      <td>nan</td>\n",
       "      <td>0.0</td>\n",
       "    </tr>\n",
       "  </tbody>\n",
       "</table>\n",
       "</div>"
      ],
      "text/plain": [
       "   yearID lgID teamID franchID  Rank    W               name  \\\n",
       "0    1969   NL    ATL      ATL     1   93     Atlanta Braves   \n",
       "1    1969   AL    BAL      BAL     1  109  Baltimore Orioles   \n",
       "2    1969   AL    BOS      BOS     3   87     Boston Red Sox   \n",
       "3    1969   AL    CAL      ANA     3   71  California Angels   \n",
       "4    1969   AL    CHA      CHW     5   68  Chicago White Sox   \n",
       "\n",
       "                            park  attendance round won round lost  \\\n",
       "0  Atlanta-Fulton County Stadium   1458320.0       nan       NLCS   \n",
       "1               Memorial Stadium   1062069.0      ALCS         WS   \n",
       "2                 Fenway Park II   1833246.0       nan        nan   \n",
       "3                Anaheim Stadium    758388.0       nan        nan   \n",
       "4                  Comiskey Park    589546.0       nan        nan   \n",
       "\n",
       "   playoff_boolean  \n",
       "0              1.0  \n",
       "1              1.0  \n",
       "2              0.0  \n",
       "3              0.0  \n",
       "4              0.0  "
      ]
     },
     "execution_count": 32,
     "metadata": {},
     "output_type": "execute_result"
    }
   ],
   "source": [
    "with_series.head()"
   ]
  },
  {
   "cell_type": "markdown",
   "metadata": {},
   "source": [
    "get delta between wins and attendance in previous season"
   ]
  },
  {
   "cell_type": "code",
   "execution_count": 40,
   "metadata": {},
   "outputs": [],
   "source": [
    "active_teams_df['prev_win'] = active_teams_df.sort_values(['franchID', 'yearID']).shift(1)['W']"
   ]
  },
  {
   "cell_type": "code",
   "execution_count": 43,
   "metadata": {},
   "outputs": [],
   "source": [
    "active_teams_df['prev_attend'] = active_teams_df.sort_values(['franchID', 'yearID']).shift(1)['attendance']"
   ]
  },
  {
   "cell_type": "code",
   "execution_count": 45,
   "metadata": {},
   "outputs": [],
   "source": [
    "#win diff from previous year calculated as how many more or less win this year than the previous year\n",
    "#and attendance diff from previous year\n",
    "active_teams_df['win_diff'] = active_teams_df['W'] - active_teams_df['prev_win']\n",
    "active_teams_df['attend_diff'] = active_teams_df['attendance'] - active_teams_df['prev_attend']"
   ]
  },
  {
   "cell_type": "code",
   "execution_count": 48,
   "metadata": {},
   "outputs": [],
   "source": [
    "#calcualte percentage change for attendance becuase stadium sizes vary, probably not necessary for wins since all out of 162\n",
    "active_teams_df['attend_percent_change'] = active_teams_df['attendance']/active_teams_df['prev_attend'] -1"
   ]
  },
  {
   "cell_type": "code",
   "execution_count": 71,
   "metadata": {},
   "outputs": [],
   "source": [
    "#average the wins and attendance in a dataframe\n",
    "mean_win_attend = active_teams_df.loc[active_teams_df.yearID > 1969][['franchID', 'W', 'attendance', 'attend_percent_change']].groupby(['franchID']).mean().reset_index()\n",
    "\n"
   ]
  },
  {
   "cell_type": "code",
   "execution_count": 72,
   "metadata": {},
   "outputs": [
    {
     "data": {
      "text/html": [
       "<div>\n",
       "<style scoped>\n",
       "    .dataframe tbody tr th:only-of-type {\n",
       "        vertical-align: middle;\n",
       "    }\n",
       "\n",
       "    .dataframe tbody tr th {\n",
       "        vertical-align: top;\n",
       "    }\n",
       "\n",
       "    .dataframe thead th {\n",
       "        text-align: right;\n",
       "    }\n",
       "</style>\n",
       "<table border=\"1\" class=\"dataframe\">\n",
       "  <thead>\n",
       "    <tr style=\"text-align: right;\">\n",
       "      <th></th>\n",
       "      <th>franchID</th>\n",
       "      <th>W</th>\n",
       "      <th>attendance</th>\n",
       "      <th>attend_percent_change</th>\n",
       "    </tr>\n",
       "  </thead>\n",
       "  <tbody>\n",
       "    <tr>\n",
       "      <th>0</th>\n",
       "      <td>ANA</td>\n",
       "      <td>80.653061</td>\n",
       "      <td>2.344005e+06</td>\n",
       "      <td>0.048176</td>\n",
       "    </tr>\n",
       "    <tr>\n",
       "      <th>1</th>\n",
       "      <td>ARI</td>\n",
       "      <td>79.904762</td>\n",
       "      <td>2.428082e+06</td>\n",
       "      <td>-0.009079</td>\n",
       "    </tr>\n",
       "    <tr>\n",
       "      <th>2</th>\n",
       "      <td>ATL</td>\n",
       "      <td>81.632653</td>\n",
       "      <td>1.982356e+06</td>\n",
       "      <td>0.064291</td>\n",
       "    </tr>\n",
       "    <tr>\n",
       "      <th>3</th>\n",
       "      <td>BAL</td>\n",
       "      <td>80.346939</td>\n",
       "      <td>2.150459e+06</td>\n",
       "      <td>0.024946</td>\n",
       "    </tr>\n",
       "    <tr>\n",
       "      <th>4</th>\n",
       "      <td>BOS</td>\n",
       "      <td>86.489796</td>\n",
       "      <td>2.363011e+06</td>\n",
       "      <td>0.020689</td>\n",
       "    </tr>\n",
       "  </tbody>\n",
       "</table>\n",
       "</div>"
      ],
      "text/plain": [
       "  franchID          W    attendance  attend_percent_change\n",
       "0      ANA  80.653061  2.344005e+06               0.048176\n",
       "1      ARI  79.904762  2.428082e+06              -0.009079\n",
       "2      ATL  81.632653  1.982356e+06               0.064291\n",
       "3      BAL  80.346939  2.150459e+06               0.024946\n",
       "4      BOS  86.489796  2.363011e+06               0.020689"
      ]
     },
     "execution_count": 72,
     "metadata": {},
     "output_type": "execute_result"
    }
   ],
   "source": [
    "mean_win_attend.head()"
   ]
  },
  {
   "cell_type": "code",
   "execution_count": 87,
   "metadata": {},
   "outputs": [],
   "source": [
    "playoff_appear = with_series.loc[with_series.playoff_boolean ==1][['franchID', 'playoff_boolean']].groupby(['franchID']).count().reset_index()"
   ]
  },
  {
   "cell_type": "markdown",
   "metadata": {},
   "source": [
    "visualizing time"
   ]
  },
  {
   "cell_type": "code",
   "execution_count": 98,
   "metadata": {},
   "outputs": [],
   "source": [
    "mean_win_attend_1 = mean_win_attend.sort_values(by = 'W')"
   ]
  },
  {
   "cell_type": "code",
   "execution_count": 100,
   "metadata": {},
   "outputs": [
    {
     "data": {
      "text/html": [
       "<div>\n",
       "<style scoped>\n",
       "    .dataframe tbody tr th:only-of-type {\n",
       "        vertical-align: middle;\n",
       "    }\n",
       "\n",
       "    .dataframe tbody tr th {\n",
       "        vertical-align: top;\n",
       "    }\n",
       "\n",
       "    .dataframe thead th {\n",
       "        text-align: right;\n",
       "    }\n",
       "</style>\n",
       "<table border=\"1\" class=\"dataframe\">\n",
       "  <thead>\n",
       "    <tr style=\"text-align: right;\">\n",
       "      <th></th>\n",
       "      <th>franchID</th>\n",
       "      <th>W</th>\n",
       "      <th>attendance</th>\n",
       "      <th>attend_percent_change</th>\n",
       "    </tr>\n",
       "  </thead>\n",
       "  <tbody>\n",
       "    <tr>\n",
       "      <th>22</th>\n",
       "      <td>SDP</td>\n",
       "      <td>73.979592</td>\n",
       "      <td>1.820512e+06</td>\n",
       "      <td>0.076222</td>\n",
       "    </tr>\n",
       "    <tr>\n",
       "      <th>11</th>\n",
       "      <td>FLA</td>\n",
       "      <td>74.346154</td>\n",
       "      <td>1.608795e+06</td>\n",
       "      <td>0.009845</td>\n",
       "    </tr>\n",
       "    <tr>\n",
       "      <th>23</th>\n",
       "      <td>SEA</td>\n",
       "      <td>75.023810</td>\n",
       "      <td>1.941438e+06</td>\n",
       "      <td>0.028694</td>\n",
       "    </tr>\n",
       "    <tr>\n",
       "      <th>9</th>\n",
       "      <td>COL</td>\n",
       "      <td>75.461538</td>\n",
       "      <td>2.952263e+06</td>\n",
       "      <td>0.041255</td>\n",
       "    </tr>\n",
       "    <tr>\n",
       "      <th>26</th>\n",
       "      <td>TBD</td>\n",
       "      <td>75.714286</td>\n",
       "      <td>1.460598e+06</td>\n",
       "      <td>-0.038370</td>\n",
       "    </tr>\n",
       "  </tbody>\n",
       "</table>\n",
       "</div>"
      ],
      "text/plain": [
       "   franchID          W    attendance  attend_percent_change\n",
       "22      SDP  73.979592  1.820512e+06               0.076222\n",
       "11      FLA  74.346154  1.608795e+06               0.009845\n",
       "23      SEA  75.023810  1.941438e+06               0.028694\n",
       "9       COL  75.461538  2.952263e+06               0.041255\n",
       "26      TBD  75.714286  1.460598e+06              -0.038370"
      ]
     },
     "execution_count": 100,
     "metadata": {},
     "output_type": "execute_result"
    }
   ],
   "source": [
    "mean_win_attend_1.head()"
   ]
  },
  {
   "cell_type": "code",
   "execution_count": 57,
   "metadata": {},
   "outputs": [],
   "source": [
    "%R -i active_teams_df"
   ]
  },
  {
   "cell_type": "code",
   "execution_count": 58,
   "metadata": {},
   "outputs": [],
   "source": [
    "%R -i with_series"
   ]
  },
  {
   "cell_type": "code",
   "execution_count": 101,
   "metadata": {},
   "outputs": [],
   "source": [
    "%R -i mean_win_attend"
   ]
  },
  {
   "cell_type": "code",
   "execution_count": null,
   "metadata": {},
   "outputs": [],
   "source": [
    "#%R -i mean_win_attend_2"
   ]
  },
  {
   "cell_type": "code",
   "execution_count": 88,
   "metadata": {},
   "outputs": [],
   "source": [
    "%R -i playoff_appear"
   ]
  },
  {
   "cell_type": "markdown",
   "metadata": {},
   "source": [
    "graph1: lets see what team has been to playoffs the most since 1969\n",
    "\n",
    "graph2: order by mean attend percent change \n",
    "\n",
    "graph3: order by win mean\n"
   ]
  },
  {
   "cell_type": "code",
   "execution_count": 110,
   "metadata": {},
   "outputs": [
    {
     "name": "stderr",
     "output_type": "stream",
     "text": [
      "R[write to console]: Saving 8.5 x 11 in image\n",
      "\n"
     ]
    }
   ],
   "source": [
    "%%R -w 8.5 -h 11 --units in -r 400\n",
    "\n",
    "#mean_win_attend$franchID <- factor(mean_win_attend$franchID, levels=unique(as.character(mean_win_attend$franchID )) )\n",
    "\n",
    "ggplot(data = mean_win_attend_1, aes(x=reorder(franchID,-W,sum), y = W, fill = franchID)) + \n",
    "    geom_bar(stat = 'identity') + \n",
    "    theme(axis.text.x = element_text(angle = 90, hjust = 1)) #+\n",
    "    #xlim(rev(levels(mean_win_attend$franchID)))\n",
    "ggsave('../images/avg_wins.pdf')"
   ]
  },
  {
   "cell_type": "code",
   "execution_count": 105,
   "metadata": {
    "scrolled": true
   },
   "outputs": [
    {
     "data": {
      "image/png": "[encoded data removed]"
     },
     "metadata": {},
     "output_type": "display_data"
    }
   ],
   "source": [
    "%%R\n",
    "\n",
    "ggplot(data = mean_win_attend, aes(x=reorder(franchID,-attend_percent_change,sum), y = attend_percent_change, fill = franchID)) + \n",
    "    geom_bar(stat = 'identity') + \n",
    "    theme(axis.text.x = element_text(angle = 90, hjust = 1))"
   ]
  },
  {
   "cell_type": "code",
   "execution_count": 111,
   "metadata": {},
   "outputs": [
    {
     "name": "stderr",
     "output_type": "stream",
     "text": [
      "R[write to console]: Saving 8.5 x 11 in image\n",
      "\n"
     ]
    }
   ],
   "source": [
    "%%R -w 8.5 -h 11 --units in -r 400\n",
    "\n",
    "ggplot(data = playoff_appear, aes(x=reorder(franchID,-playoff_boolean,sum), y = playoff_boolean, fill = franchID)) + \n",
    "    geom_bar(stat = 'identity') + \n",
    "    theme(axis.text.x = element_text(angle = 90, hjust = 1))\n",
    "\n",
    "ggsave('../images/playoff_appearances.pdf')"
   ]
  },
  {
   "cell_type": "markdown",
   "metadata": {},
   "source": [
    "stadium stuff\n",
    "---"
   ]
  }
 ],
 "metadata": {
  "kernelspec": {
   "display_name": "Python 3",
   "language": "python",
   "name": "python3"
  },
  "language_info": {
   "codemirror_mode": {
    "name": "ipython",
    "version": 3
   },
   "file_extension": ".py",
   "mimetype": "text/x-python",
   "name": "python",
   "nbconvert_exporter": "python",
   "pygments_lexer": "ipython3",
   "version": "3.7.3"
  }
 },
 "nbformat": 4,
 "nbformat_minor": 2
}
